{
 "cells": [
  {
   "cell_type": "code",
   "execution_count": 8,
   "metadata": {},
   "outputs": [],
   "source": [
    "import json\n",
    "import numpy as np\n",
    "import os\n",
    "from sklearn.model_selection import train_test_split\n",
    "import tensorflow.keras as keras\n",
    "import matplotlib.pyplot as plt\n",
    "os.environ['TF_FORCE_GPU_ALLOW_GROWTH'] = 'true'"
   ]
  },
  {
   "cell_type": "code",
   "execution_count": 9,
   "metadata": {},
   "outputs": [],
   "source": [
    "def load_data(data_path):\n",
    "    with open(data_path, \"r\") as fp:\n",
    "        data = json.load(fp)\n",
    "\n",
    "    X = np.array(data[\"mfcc\"])\n",
    "    y = np.array(data[\"labels\"])\n",
    "    return X, y"
   ]
  },
  {
   "cell_type": "code",
   "execution_count": 10,
   "metadata": {},
   "outputs": [],
   "source": [
    "def plot_history(history):\n",
    "    fig, axs = plt.subplots(2)\n",
    "\n",
    "    axs[0].plot(history.history[\"accuracy\"], label=\"train accuracy\")\n",
    "    axs[0].plot(history.history[\"val_accuracy\"], label=\"test accuracy\")\n",
    "    axs[0].set_ylabel(\"Accuracy\")\n",
    "    axs[0].legend(loc=\"lower right\")\n",
    "    axs[0].set_title(\"Accuracy eval\")\n",
    "\n",
    "    axs[1].plot(history.history[\"loss\"], label=\"train error\")\n",
    "    axs[1].plot(history.history[\"val_loss\"], label=\"test error\")\n",
    "    axs[1].set_ylabel(\"Error\")\n",
    "    axs[1].set_xlabel(\"Epoch\")\n",
    "    axs[1].legend(loc=\"upper right\")\n",
    "    axs[1].set_title(\"Error eval\")\n",
    "\n",
    "    plt.show()"
   ]
  },
  {
   "cell_type": "code",
   "execution_count": 11,
   "metadata": {},
   "outputs": [],
   "source": [
    "def prepare_datasets(test_size, validation_size):\n",
    "    X, y = load_data(DATA_PATH)\n",
    "\n",
    "    X_train, X_test, y_train, y_test = train_test_split(X, y, test_size=test_size)\n",
    "    X_train, X_validation, y_train, y_validation = train_test_split(X_train, y_train, test_size=validation_size)\n",
    "\n",
    "    X_train = X_train[..., np.newaxis]\n",
    "    X_validation = X_validation[..., np.newaxis]\n",
    "    X_test = X_test[..., np.newaxis]\n",
    "\n",
    "    return X_train, X_validation, X_test, y_train, y_validation, y_test"
   ]
  },
  {
   "cell_type": "code",
   "execution_count": 12,
   "metadata": {},
   "outputs": [],
   "source": [
    "def build_model(input_shape):\n",
    "\n",
    "    model = keras.Sequential()\n",
    "\n",
    "    model.add(keras.layers.Conv2D(32, (3, 3), activation='relu', input_shape=input_shape))\n",
    "    model.add(keras.layers.MaxPooling2D((3, 3), strides=(2, 2), padding='same'))\n",
    "    model.add(keras.layers.BatchNormalization())\n",
    "\n",
    "    model.add(keras.layers.Conv2D(32, (3, 3), activation='relu'))\n",
    "    model.add(keras.layers.MaxPooling2D((3, 3), strides=(2, 2), padding='same'))\n",
    "    model.add(keras.layers.BatchNormalization())\n",
    "\n",
    "    model.add(keras.layers.Conv2D(32, (2, 2), activation='relu'))\n",
    "    model.add(keras.layers.MaxPooling2D((2, 2), strides=(2, 2), padding='same'))\n",
    "    model.add(keras.layers.BatchNormalization())\n",
    "\n",
    "    model.add(keras.layers.Flatten())\n",
    "    model.add(keras.layers.Dense(64, activation='relu'))\n",
    "    model.add(keras.layers.Dropout(0.3))\n",
    "\n",
    "    model.add(keras.layers.Dense(10, activation='softmax'))\n",
    "\n",
    "    return model"
   ]
  },
  {
   "cell_type": "code",
   "execution_count": 13,
   "metadata": {},
   "outputs": [],
   "source": [
    "def predict(model, X, y):\n",
    "    X = X[np.newaxis, ...] # array shape (1, 130, 13, 1)\n",
    "\n",
    "    prediction = model.predict(X)\n",
    "\n",
    "    predicted_index = np.argmax(prediction, axis=1)\n",
    "\n",
    "    print(\"Target: {}, Predicted label: {}\".format(y, predicted_index))"
   ]
  },
  {
   "cell_type": "code",
   "execution_count": 14,
   "metadata": {},
   "outputs": [
    {
     "name": "stdout",
     "output_type": "stream",
     "text": [
      "Model: \"sequential_1\"\n",
      "_________________________________________________________________\n",
      "Layer (type)                 Output Shape              Param #   \n",
      "=================================================================\n",
      "conv2d_3 (Conv2D)            (None, 128, 11, 32)       320       \n",
      "_________________________________________________________________\n",
      "max_pooling2d_3 (MaxPooling2 (None, 64, 6, 32)         0         \n",
      "_________________________________________________________________\n",
      "batch_normalization_3 (Batch (None, 64, 6, 32)         128       \n",
      "_________________________________________________________________\n",
      "conv2d_4 (Conv2D)            (None, 62, 4, 32)         9248      \n",
      "_________________________________________________________________\n",
      "max_pooling2d_4 (MaxPooling2 (None, 31, 2, 32)         0         \n",
      "_________________________________________________________________\n",
      "batch_normalization_4 (Batch (None, 31, 2, 32)         128       \n",
      "_________________________________________________________________\n",
      "conv2d_5 (Conv2D)            (None, 30, 1, 32)         4128      \n",
      "_________________________________________________________________\n",
      "max_pooling2d_5 (MaxPooling2 (None, 15, 1, 32)         0         \n",
      "_________________________________________________________________\n",
      "batch_normalization_5 (Batch (None, 15, 1, 32)         128       \n",
      "_________________________________________________________________\n",
      "flatten_1 (Flatten)          (None, 480)               0         \n",
      "_________________________________________________________________\n",
      "dense_2 (Dense)              (None, 64)                30784     \n",
      "_________________________________________________________________\n",
      "dropout_1 (Dropout)          (None, 64)                0         \n",
      "_________________________________________________________________\n",
      "dense_3 (Dense)              (None, 10)                650       \n",
      "=================================================================\n",
      "Total params: 45,514\n",
      "Trainable params: 45,322\n",
      "Non-trainable params: 192\n",
      "_________________________________________________________________\n",
      "Train on 5997 samples, validate on 1500 samples\n",
      "Epoch 1/30\n",
      "5997/5997 [==============================] - 2s 392us/sample - loss: 2.3934 - accuracy: 0.2236 - val_loss: 1.8961 - val_accuracy: 0.3473\n",
      "Epoch 2/30\n",
      "5997/5997 [==============================] - 1s 175us/sample - loss: 1.8253 - accuracy: 0.3712 - val_loss: 1.5255 - val_accuracy: 0.4467\n",
      "Epoch 3/30\n",
      "5997/5997 [==============================] - 1s 169us/sample - loss: 1.6459 - accuracy: 0.4222 - val_loss: 1.4029 - val_accuracy: 0.4907\n",
      "Epoch 4/30\n",
      "5997/5997 [==============================] - 1s 174us/sample - loss: 1.5053 - accuracy: 0.4634 - val_loss: 1.3252 - val_accuracy: 0.5207\n",
      "Epoch 5/30\n",
      "5997/5997 [==============================] - 1s 172us/sample - loss: 1.4476 - accuracy: 0.4821 - val_loss: 1.2724 - val_accuracy: 0.5400\n",
      "Epoch 6/30\n",
      "5997/5997 [==============================] - 1s 177us/sample - loss: 1.3819 - accuracy: 0.5133 - val_loss: 1.2167 - val_accuracy: 0.5647\n",
      "Epoch 7/30\n",
      "5997/5997 [==============================] - 1s 172us/sample - loss: 1.3093 - accuracy: 0.5369 - val_loss: 1.1818 - val_accuracy: 0.5787\n",
      "Epoch 8/30\n",
      "5997/5997 [==============================] - 1s 171us/sample - loss: 1.2757 - accuracy: 0.5413 - val_loss: 1.1397 - val_accuracy: 0.5947\n",
      "Epoch 9/30\n",
      "5997/5997 [==============================] - 1s 174us/sample - loss: 1.2301 - accuracy: 0.5594 - val_loss: 1.1132 - val_accuracy: 0.6067\n",
      "Epoch 10/30\n",
      "5997/5997 [==============================] - 1s 171us/sample - loss: 1.1933 - accuracy: 0.5698 - val_loss: 1.0923 - val_accuracy: 0.6240\n",
      "Epoch 11/30\n",
      "5997/5997 [==============================] - 1s 179us/sample - loss: 1.1398 - accuracy: 0.5940 - val_loss: 1.0725 - val_accuracy: 0.6253\n",
      "Epoch 12/30\n",
      "5997/5997 [==============================] - 1s 168us/sample - loss: 1.1045 - accuracy: 0.6051 - val_loss: 1.0494 - val_accuracy: 0.6253\n",
      "Epoch 13/30\n",
      "5997/5997 [==============================] - 1s 173us/sample - loss: 1.0671 - accuracy: 0.6161 - val_loss: 1.0094 - val_accuracy: 0.6547\n",
      "Epoch 14/30\n",
      "5997/5997 [==============================] - 1s 173us/sample - loss: 1.0392 - accuracy: 0.6291 - val_loss: 0.9984 - val_accuracy: 0.6427\n",
      "Epoch 15/30\n",
      "5997/5997 [==============================] - 1s 172us/sample - loss: 1.0252 - accuracy: 0.6333 - val_loss: 0.9739 - val_accuracy: 0.6647\n",
      "Epoch 16/30\n",
      "5997/5997 [==============================] - 1s 172us/sample - loss: 0.9725 - accuracy: 0.6580 - val_loss: 0.9745 - val_accuracy: 0.6560\n",
      "Epoch 17/30\n",
      "5997/5997 [==============================] - 1s 173us/sample - loss: 0.9582 - accuracy: 0.6633 - val_loss: 0.9444 - val_accuracy: 0.6693\n",
      "Epoch 18/30\n",
      "5997/5997 [==============================] - 1s 172us/sample - loss: 0.9412 - accuracy: 0.6662 - val_loss: 0.9378 - val_accuracy: 0.6740\n",
      "Epoch 19/30\n",
      "5997/5997 [==============================] - 1s 173us/sample - loss: 0.9164 - accuracy: 0.6765 - val_loss: 0.9400 - val_accuracy: 0.6647\n",
      "Epoch 20/30\n",
      "5997/5997 [==============================] - 1s 173us/sample - loss: 0.8862 - accuracy: 0.6962 - val_loss: 0.9224 - val_accuracy: 0.6753\n",
      "Epoch 21/30\n",
      "5997/5997 [==============================] - 1s 172us/sample - loss: 0.8545 - accuracy: 0.7027 - val_loss: 0.9098 - val_accuracy: 0.6840\n",
      "Epoch 22/30\n",
      "5997/5997 [==============================] - 1s 173us/sample - loss: 0.8486 - accuracy: 0.7004 - val_loss: 0.8946 - val_accuracy: 0.6907\n",
      "Epoch 23/30\n",
      "5997/5997 [==============================] - 1s 172us/sample - loss: 0.8197 - accuracy: 0.7142 - val_loss: 0.9008 - val_accuracy: 0.6920\n",
      "Epoch 24/30\n",
      "5997/5997 [==============================] - 1s 172us/sample - loss: 0.8032 - accuracy: 0.7184 - val_loss: 0.8769 - val_accuracy: 0.6947\n",
      "Epoch 25/30\n",
      "5997/5997 [==============================] - 1s 172us/sample - loss: 0.8034 - accuracy: 0.7160 - val_loss: 0.8724 - val_accuracy: 0.6973\n",
      "Epoch 26/30\n",
      "5997/5997 [==============================] - 1s 176us/sample - loss: 0.7621 - accuracy: 0.7314 - val_loss: 0.8461 - val_accuracy: 0.7160\n",
      "Epoch 27/30\n",
      "5997/5997 [==============================] - 1s 176us/sample - loss: 0.7558 - accuracy: 0.7370 - val_loss: 0.8661 - val_accuracy: 0.7047\n",
      "Epoch 28/30\n",
      "5997/5997 [==============================] - 1s 171us/sample - loss: 0.7356 - accuracy: 0.7434 - val_loss: 0.8467 - val_accuracy: 0.7100\n",
      "Epoch 29/30\n",
      "5997/5997 [==============================] - 1s 168us/sample - loss: 0.7333 - accuracy: 0.7432 - val_loss: 0.8431 - val_accuracy: 0.7147\n",
      "Epoch 30/30\n",
      "5997/5997 [==============================] - 1s 174us/sample - loss: 0.7152 - accuracy: 0.7524 - val_loss: 0.8497 - val_accuracy: 0.7060\n"
     ]
    },
    {
     "data": {
      "image/png": "[encoded data removed]",
      "text/plain": [
       "<Figure size 432x288 with 2 Axes>"
      ]
     },
     "metadata": {
      "needs_background": "light"
     },
     "output_type": "display_data"
    },
    {
     "name": "stdout",
     "output_type": "stream",
     "text": [
      "2499/2499 - 0s - loss: 0.8468 - accuracy: 0.7043\n",
      "\n",
      "Test accuracy: 0.7042817\n",
      "Target: 9, Predicted label: [9]\n"
     ]
    }
   ],
   "source": [
    "DATA_PATH = \"data_10.json\"\n",
    "X_train, X_validation, X_test, y_train, y_validation, y_test = prepare_datasets(0.25, 0.2)\n",
    "\n",
    "input_shape = (X_train.shape[1], X_train.shape[2], 1)\n",
    "model = build_model(input_shape)\n",
    "\n",
    "optimiser = keras.optimizers.Adam(learning_rate=0.0001)\n",
    "model.compile(optimizer=optimiser,\n",
    "              loss='sparse_categorical_crossentropy',\n",
    "              metrics=['accuracy'])\n",
    "\n",
    "model.summary()\n",
    "\n",
    "history = model.fit(X_train, y_train, validation_data=(X_validation, y_validation), batch_size=32, epochs=30)\n",
    "\n",
    "plot_history(history)\n",
    "\n",
    "test_loss, test_acc = model.evaluate(X_test, y_test, verbose=2)\n",
    "print('\\nTest accuracy:', test_acc)\n",
    "\n",
    "X_to_predict = X_test[100]\n",
    "y_to_predict = y_test[100]\n",
    "\n",
    "predict(model, X_to_predict, y_to_predict)"
   ]
  },
  {
   "cell_type": "code",
   "execution_count": null,
   "metadata": {},
   "outputs": [],
   "source": []
  }
 ],
 "metadata": {
  "kernelspec": {
   "display_name": "Python 3",
   "language": "python",
   "name": "python3"
  },
  "language_info": {
   "codemirror_mode": {
    "name": "ipython",
    "version": 3
   },
   "file_extension": ".py",
   "mimetype": "text/x-python",
   "name": "python",
   "nbconvert_exporter": "python",
   "pygments_lexer": "ipython3",
   "version": "3.7.4"
  }
 },
 "nbformat": 4,
 "nbformat_minor": 4
}
