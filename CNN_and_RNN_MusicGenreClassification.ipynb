{
 "cells": [
  {
   "cell_type": "code",
   "execution_count": 5,
   "metadata": {},
   "outputs": [],
   "source": [
    "import json\n",
    "import numpy as np\n",
    "from sklearn.model_selection import train_test_split\n",
    "import tensorflow.keras as keras\n",
    "import matplotlib.pyplot as plt\n",
    "import os\n",
    "\n",
    "os.environ['TF_FORCE_GPU_ALLOW_GROWTH'] = 'true'"
   ]
  },
  {
   "cell_type": "code",
   "execution_count": 6,
   "metadata": {},
   "outputs": [],
   "source": [
    "def load_data(data_path):\n",
    "    with open(data_path, \"r\") as fp:\n",
    "        data = json.load(fp)\n",
    "\n",
    "    X = np.array(data[\"mfcc\"])\n",
    "    y = np.array(data[\"labels\"])\n",
    "    return X, y"
   ]
  },
  {
   "cell_type": "code",
   "execution_count": 7,
   "metadata": {},
   "outputs": [],
   "source": [
    "def plot_history(history):\n",
    "    fig, axs = plt.subplots(2)\n",
    "\n",
    "    axs[0].plot(history.history[\"accuracy\"], label=\"train accuracy\")\n",
    "    axs[0].plot(history.history[\"val_accuracy\"], label=\"test accuracy\")\n",
    "    axs[0].set_ylabel(\"Accuracy\")\n",
    "    axs[0].legend(loc=\"lower right\")\n",
    "    axs[0].set_title(\"Accuracy eval\")\n",
    "\n",
    "    axs[1].plot(history.history[\"loss\"], label=\"train error\")\n",
    "    axs[1].plot(history.history[\"val_loss\"], label=\"test error\")\n",
    "    axs[1].set_ylabel(\"Error\")\n",
    "    axs[1].set_xlabel(\"Epoch\")\n",
    "    axs[1].legend(loc=\"upper right\")\n",
    "    axs[1].set_title(\"Error eval\")\n",
    "\n",
    "    plt.show()"
   ]
  },
  {
   "cell_type": "code",
   "execution_count": 13,
   "metadata": {},
   "outputs": [],
   "source": [
    "def prepare_datasets(test_size, validation_size):\n",
    "    X, y = load_data(DATA_PATH)\n",
    "\n",
    "    X_train, X_test, y_train, y_test = train_test_split(X, y, test_size=test_size)\n",
    "    X_train, X_validation, y_train, y_validation = train_test_split(X_train, y_train, test_size=validation_size)\n",
    "\n",
    "    print(X_train.shape)\n",
    "    X_train = X_train[..., np.newaxis]\n",
    "    X_validation = X_validation[..., np.newaxis]\n",
    "    X_test = X_test[..., np.newaxis]\n",
    "\n",
    "    print(X_train.shape)\n",
    "    return X_train, X_validation, X_test, y_train, y_validation, y_test"
   ]
  },
  {
   "cell_type": "code",
   "execution_count": 14,
   "metadata": {},
   "outputs": [],
   "source": [
    "def build_model(input_shape):\n",
    "\n",
    "    model = keras.Sequential()\n",
    "\n",
    "    model.add(keras.layers.Conv2D(32, (3, 3), activation='relu', input_shape=input_shape))\n",
    "    model.add(keras.layers.MaxPooling2D((3, 3), strides=(2, 2), padding='same'))\n",
    "    model.add(keras.layers.BatchNormalization())\n",
    "\n",
    "    model.add(keras.layers.Conv2D(32, (3, 3), activation='relu'))\n",
    "    model.add(keras.layers.MaxPooling2D((3, 3), strides=(2, 2), padding='same'))\n",
    "    model.add(keras.layers.BatchNormalization())\n",
    "\n",
    "    model.add(keras.layers.Conv2D(32, (2, 2), activation='relu'))\n",
    "    model.add(keras.layers.MaxPooling2D((2, 2), strides=(2, 2), padding='same'))\n",
    "    model.add(keras.layers.BatchNormalization())\n",
    "\n",
    "    model.add(keras.layers.Flatten())\n",
    "    model.add(keras.layers.Dense(64, activation='relu'))\n",
    "    model.add(keras.layers.Dropout(0.3))\n",
    "\n",
    "    model.add(keras.layers.Dense(10, activation='softmax'))\n",
    "\n",
    "    return model\n",
    "\n",
    "# def build_model(input_shape):\n",
    "#     model = keras.Sequential()\n",
    "\n",
    "#     model.add(keras.layers.LSTM(64, input_shape=input_shape, return_sequences=True))\n",
    "#     model.add(keras.layers.LSTM(64))\n",
    "\n",
    "#     model.add(keras.layers.Dense(64, activation='relu'))\n",
    "#     model.add(keras.layers.Dropout(0.3))\n",
    "\n",
    "#     model.add(keras.layers.Dense(10, activation='softmax'))\n",
    "\n",
    "#     return model"
   ]
  },
  {
   "cell_type": "code",
   "execution_count": 15,
   "metadata": {},
   "outputs": [],
   "source": [
    "def predict(model, X, y):\n",
    "    X = X[np.newaxis, ...]\n",
    "\n",
    "    prediction = model.predict(X)\n",
    "\n",
    "    predicted_index = np.argmax(prediction, axis=1)\n",
    "\n",
    "    print(\"Target: {}, Predicted label: {}\".format(y, predicted_index))"
   ]
  },
  {
   "cell_type": "code",
   "execution_count": 16,
   "metadata": {},
   "outputs": [
    {
     "name": "stdout",
     "output_type": "stream",
     "text": [
      "(5997, 130, 13)\n",
      "(5997, 130, 13, 1)\n",
      "Model: \"sequential_1\"\n",
      "_________________________________________________________________\n",
      "Layer (type)                 Output Shape              Param #   \n",
      "=================================================================\n",
      "conv2d_3 (Conv2D)            (None, 128, 11, 32)       320       \n",
      "_________________________________________________________________\n",
      "max_pooling2d_3 (MaxPooling2 (None, 64, 6, 32)         0         \n",
      "_________________________________________________________________\n",
      "batch_normalization_3 (Batch (None, 64, 6, 32)         128       \n",
      "_________________________________________________________________\n",
      "conv2d_4 (Conv2D)            (None, 62, 4, 32)         9248      \n",
      "_________________________________________________________________\n",
      "max_pooling2d_4 (MaxPooling2 (None, 31, 2, 32)         0         \n",
      "_________________________________________________________________\n",
      "batch_normalization_4 (Batch (None, 31, 2, 32)         128       \n",
      "_________________________________________________________________\n",
      "conv2d_5 (Conv2D)            (None, 30, 1, 32)         4128      \n",
      "_________________________________________________________________\n",
      "max_pooling2d_5 (MaxPooling2 (None, 15, 1, 32)         0         \n",
      "_________________________________________________________________\n",
      "batch_normalization_5 (Batch (None, 15, 1, 32)         128       \n",
      "_________________________________________________________________\n",
      "flatten_1 (Flatten)          (None, 480)               0         \n",
      "_________________________________________________________________\n",
      "dense_2 (Dense)              (None, 64)                30784     \n",
      "_________________________________________________________________\n",
      "dropout_1 (Dropout)          (None, 64)                0         \n",
      "_________________________________________________________________\n",
      "dense_3 (Dense)              (None, 10)                650       \n",
      "=================================================================\n",
      "Total params: 45,514\n",
      "Trainable params: 45,322\n",
      "Non-trainable params: 192\n",
      "_________________________________________________________________\n"
     ]
    }
   ],
   "source": [
    "DATA_PATH = \"data_10.json\"\n",
    "\n",
    "X_train, X_validation, X_test, y_train, y_validation, y_test = prepare_datasets(0.25, 0.2)\n",
    "\n",
    "# input_shape = (X_train.shape[1], X_train.shape[2])\n",
    "input_shape = (X_train.shape[1], X_train.shape[2], 1)\n",
    "model = build_model(input_shape)\n",
    "\n",
    "optimiser = keras.optimizers.Adam(learning_rate=0.0001)\n",
    "model.compile(optimizer=optimiser,\n",
    "              loss='sparse_categorical_crossentropy',\n",
    "              metrics=['accuracy'])\n",
    "\n",
    "model.summary()"
   ]
  },
  {
   "cell_type": "code",
   "execution_count": 12,
   "metadata": {},
   "outputs": [
    {
     "name": "stdout",
     "output_type": "stream",
     "text": [
      "Train on 5997 samples, validate on 1500 samples\n",
      "Epoch 1/30\n",
      "5997/5997 [==============================] - 7s 1ms/sample - loss: 2.4304 - accuracy: 0.2116 - val_loss: 1.8373 - val_accuracy: 0.3527\n",
      "Epoch 2/30\n",
      "5997/5997 [==============================] - 1s 165us/sample - loss: 1.8595 - accuracy: 0.3510 - val_loss: 1.5524 - val_accuracy: 0.4593\n",
      "Epoch 3/30\n",
      "5997/5997 [==============================] - 1s 165us/sample - loss: 1.6756 - accuracy: 0.4004 - val_loss: 1.4157 - val_accuracy: 0.4993\n",
      "Epoch 4/30\n",
      "5997/5997 [==============================] - 1s 169us/sample - loss: 1.5417 - accuracy: 0.4461 - val_loss: 1.3367 - val_accuracy: 0.5160\n",
      "Epoch 5/30\n",
      "5997/5997 [==============================] - 1s 169us/sample - loss: 1.4757 - accuracy: 0.4657 - val_loss: 1.2743 - val_accuracy: 0.5407\n",
      "Epoch 6/30\n",
      "5997/5997 [==============================] - 1s 167us/sample - loss: 1.3840 - accuracy: 0.4994 - val_loss: 1.2390 - val_accuracy: 0.5507\n",
      "Epoch 7/30\n",
      "5997/5997 [==============================] - 1s 166us/sample - loss: 1.3518 - accuracy: 0.5126 - val_loss: 1.1845 - val_accuracy: 0.5733\n",
      "Epoch 8/30\n",
      "5997/5997 [==============================] - 1s 176us/sample - loss: 1.3031 - accuracy: 0.5308 - val_loss: 1.1669 - val_accuracy: 0.5813\n",
      "Epoch 9/30\n",
      "5997/5997 [==============================] - 1s 168us/sample - loss: 1.2468 - accuracy: 0.5443 - val_loss: 1.1480 - val_accuracy: 0.5860\n",
      "Epoch 10/30\n",
      "5997/5997 [==============================] - 1s 168us/sample - loss: 1.2215 - accuracy: 0.5611 - val_loss: 1.1154 - val_accuracy: 0.6027\n",
      "Epoch 11/30\n",
      "5997/5997 [==============================] - 1s 167us/sample - loss: 1.1813 - accuracy: 0.5725 - val_loss: 1.0786 - val_accuracy: 0.6247\n",
      "Epoch 12/30\n",
      "5997/5997 [==============================] - 1s 166us/sample - loss: 1.1507 - accuracy: 0.5925 - val_loss: 1.0500 - val_accuracy: 0.6253\n",
      "Epoch 13/30\n",
      "5997/5997 [==============================] - 1s 166us/sample - loss: 1.1056 - accuracy: 0.6040 - val_loss: 1.0738 - val_accuracy: 0.6213\n",
      "Epoch 14/30\n",
      "5997/5997 [==============================] - 1s 167us/sample - loss: 1.1043 - accuracy: 0.6065 - val_loss: 1.0342 - val_accuracy: 0.6440\n",
      "Epoch 15/30\n",
      "5997/5997 [==============================] - 1s 167us/sample - loss: 1.0432 - accuracy: 0.6268 - val_loss: 1.0149 - val_accuracy: 0.6433\n",
      "Epoch 16/30\n",
      "5997/5997 [==============================] - 1s 169us/sample - loss: 1.0166 - accuracy: 0.6326 - val_loss: 1.0057 - val_accuracy: 0.6513\n",
      "Epoch 17/30\n",
      "5997/5997 [==============================] - 1s 167us/sample - loss: 1.0069 - accuracy: 0.6337 - val_loss: 0.9687 - val_accuracy: 0.6667\n",
      "Epoch 18/30\n",
      "5997/5997 [==============================] - 1s 167us/sample - loss: 0.9934 - accuracy: 0.6433 - val_loss: 0.9758 - val_accuracy: 0.6653\n",
      "Epoch 19/30\n",
      "5997/5997 [==============================] - 1s 167us/sample - loss: 0.9645 - accuracy: 0.6582 - val_loss: 0.9562 - val_accuracy: 0.6753\n",
      "Epoch 20/30\n",
      "5997/5997 [==============================] - 1s 167us/sample - loss: 0.9367 - accuracy: 0.6740 - val_loss: 0.9430 - val_accuracy: 0.6807\n",
      "Epoch 21/30\n",
      "5997/5997 [==============================] - 1s 166us/sample - loss: 0.9141 - accuracy: 0.6737 - val_loss: 0.9256 - val_accuracy: 0.6813\n",
      "Epoch 22/30\n",
      "5997/5997 [==============================] - 1s 166us/sample - loss: 0.8982 - accuracy: 0.6827 - val_loss: 0.9138 - val_accuracy: 0.6853\n",
      "Epoch 23/30\n",
      "5997/5997 [==============================] - 1s 170us/sample - loss: 0.8638 - accuracy: 0.7000 - val_loss: 0.9014 - val_accuracy: 0.6860\n",
      "Epoch 24/30\n",
      "5997/5997 [==============================] - 1s 175us/sample - loss: 0.8494 - accuracy: 0.6960 - val_loss: 0.8935 - val_accuracy: 0.6980\n",
      "Epoch 25/30\n",
      "5997/5997 [==============================] - 1s 173us/sample - loss: 0.8443 - accuracy: 0.7064 - val_loss: 0.9029 - val_accuracy: 0.6907\n",
      "Epoch 26/30\n",
      "5997/5997 [==============================] - 1s 170us/sample - loss: 0.8225 - accuracy: 0.7184 - val_loss: 0.8924 - val_accuracy: 0.6947\n",
      "Epoch 27/30\n",
      "5997/5997 [==============================] - 1s 165us/sample - loss: 0.7988 - accuracy: 0.7205 - val_loss: 0.8686 - val_accuracy: 0.6993\n",
      "Epoch 28/30\n",
      "5997/5997 [==============================] - 1s 167us/sample - loss: 0.7860 - accuracy: 0.7222 - val_loss: 0.8817 - val_accuracy: 0.6973\n",
      "Epoch 29/30\n",
      "5997/5997 [==============================] - 1s 166us/sample - loss: 0.7826 - accuracy: 0.7285 - val_loss: 0.8680 - val_accuracy: 0.7033\n",
      "Epoch 30/30\n",
      "5997/5997 [==============================] - 1s 167us/sample - loss: 0.7628 - accuracy: 0.7379 - val_loss: 0.8436 - val_accuracy: 0.7160\n"
     ]
    },
    {
     "data": {
      "image/png": "[encoded data removed]",
      "text/plain": [
       "<Figure size 432x288 with 2 Axes>"
      ]
     },
     "metadata": {
      "needs_background": "light"
     },
     "output_type": "display_data"
    },
    {
     "name": "stdout",
     "output_type": "stream",
     "text": [
      "2499/2499 - 0s - loss: 0.8687 - accuracy: 0.6931\n",
      "\n",
      "Test accuracy: 0.6930772\n"
     ]
    }
   ],
   "source": [
    "history = model.fit(X_train, y_train, validation_data=(X_validation, y_validation), batch_size=32, epochs=30)\n",
    "\n",
    "plot_history(history)\n",
    "\n",
    "test_loss, test_acc = model.evaluate(X_test, y_test, verbose=2)\n",
    "print('\\nTest accuracy:', test_acc)\n",
    "\n",
    "# X_to_predict = X_test[100]\n",
    "# y_to_predict = y_test[100]\n",
    "\n",
    "# predict(model, X_to_predict, y_to_predict)"
   ]
  },
  {
   "cell_type": "code",
   "execution_count": null,
   "metadata": {},
   "outputs": [],
   "source": []
  }
 ],
 "metadata": {
  "kernelspec": {
   "display_name": "Python 3",
   "language": "python",
   "name": "python3"
  },
  "language_info": {
   "codemirror_mode": {
    "name": "ipython",
    "version": 3
   },
   "file_extension": ".py",
   "mimetype": "text/x-python",
   "name": "python",
   "nbconvert_exporter": "python",
   "pygments_lexer": "ipython3",
   "version": "3.7.4"
  }
 },
 "nbformat": 4,
 "nbformat_minor": 4
}
